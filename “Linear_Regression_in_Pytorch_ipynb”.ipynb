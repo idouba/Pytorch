{
  "nbformat": 4,
  "nbformat_minor": 0,
  "metadata": {
    "colab": {
      "provenance": [],
      "toc_visible": true,
      "include_colab_link": true
    },
    "kernelspec": {
      "name": "python3",
      "display_name": "Python 3"
    },
    "language_info": {
      "name": "python"
    }
  },
  "cells": [
    {
      "cell_type": "markdown",
      "metadata": {
        "id": "view-in-github",
        "colab_type": "text"
      },
      "source": [
        "<a href=\"https://colab.research.google.com/github/idouba/pytorch/blob/main/%E2%80%9CLinear_Regression_in_Pytorch_ipynb%E2%80%9D.ipynb\" target=\"_parent\"><img src=\"https://colab.research.google.com/assets/colab-badge.svg\" alt=\"Open In Colab\"/></a>"
      ]
    },
    {
      "cell_type": "markdown",
      "metadata": {
        "id": "TDmcSGewXJDr"
      },
      "source": [
        "## Imports"
      ]
    },
    {
      "cell_type": "code",
      "source": [],
      "metadata": {
        "id": "pOyuNGBBAw7V"
      },
      "execution_count": null,
      "outputs": []
    },
    {
      "cell_type": "code",
      "source": [],
      "metadata": {
        "id": "LDYQa-XOA06H"
      },
      "execution_count": null,
      "outputs": []
    },
    {
      "cell_type": "code",
      "source": [],
      "metadata": {
        "id": "HTPfEi2wA1IE"
      },
      "execution_count": null,
      "outputs": []
    },
    {
      "cell_type": "code",
      "source": [],
      "metadata": {
        "id": "eueGlCZLBOL6"
      },
      "execution_count": null,
      "outputs": []
    },
    {
      "cell_type": "code",
      "source": [],
      "metadata": {
        "id": "wvESD8qr_YKe"
      },
      "execution_count": null,
      "outputs": []
    },
    {
      "cell_type": "code",
      "source": [],
      "metadata": {
        "id": "WRwFYgf4_Yld"
      },
      "execution_count": null,
      "outputs": []
    },
    {
      "cell_type": "code",
      "metadata": {
        "id": "vvPLjUrfXKZM"
      },
      "source": [
        "# @title\n",
        "import torch\n",
        "import numpy as np"
      ],
      "execution_count": null,
      "outputs": []
    },
    {
      "cell_type": "markdown",
      "metadata": {
        "id": "xYfAerwpXQ3O"
      },
      "source": [
        "## Data"
      ]
    },
    {
      "cell_type": "code",
      "metadata": {
        "id": "XoXue2OfXSMh"
      },
      "source": [
        "inputs = np.array([[73, 67, 43],\n",
        "                   [91, 88, 64],\n",
        "                   [87, 134, 58],\n",
        "                   [102, 43, 37],\n",
        "                   [69, 96, 70],\n",
        "                   [74, 66, 43],\n",
        "                   [91, 87, 65],\n",
        "                   [88, 134, 59],\n",
        "                   [101, 44, 37],\n",
        "                   [68, 96, 71],\n",
        "                   [73, 66, 44],\n",
        "                   [92, 87, 64],\n",
        "                   [87, 135, 57],\n",
        "                   [103, 43, 36],\n",
        "                   [68, 97, 70]],\n",
        "                  dtype='float32')\n",
        "targets = np.array([[56, 70],\n",
        "                    [81, 101],\n",
        "                    [119, 133],\n",
        "                    [22, 37],\n",
        "                    [103, 119],\n",
        "                    [57, 69],\n",
        "                    [80, 102],\n",
        "                    [118, 132],\n",
        "                    [21, 38],\n",
        "                    [104, 118],\n",
        "                    [57, 69],\n",
        "                    [82, 100],\n",
        "                    [118, 134],\n",
        "                    [20, 38],\n",
        "                    [102, 120]],\n",
        "                   dtype='float32')"
      ],
      "execution_count": null,
      "outputs": []
    },
    {
      "cell_type": "code",
      "metadata": {
        "id": "2T2h3N4TXUsP"
      },
      "source": [
        "inputs = torch.from_numpy(inputs)\n",
        "targets = torch.from_numpy(targets)"
      ],
      "execution_count": null,
      "outputs": []
    },
    {
      "cell_type": "code",
      "metadata": {
        "colab": {
          "base_uri": "https://localhost:8080/"
        },
        "id": "ZBHzMWjEXWhC",
        "outputId": "f9b60997-52c3-46a0-dff6-7435e7ab4d47"
      },
      "source": [
        "print(inputs)"
      ],
      "execution_count": null,
      "outputs": [
        {
          "output_type": "stream",
          "name": "stdout",
          "text": [
            "tensor([[ 73.,  67.,  43.],\n",
            "        [ 91.,  88.,  64.],\n",
            "        [ 87., 134.,  58.],\n",
            "        [102.,  43.,  37.],\n",
            "        [ 69.,  96.,  70.],\n",
            "        [ 74.,  66.,  43.],\n",
            "        [ 91.,  87.,  65.],\n",
            "        [ 88., 134.,  59.],\n",
            "        [101.,  44.,  37.],\n",
            "        [ 68.,  96.,  71.],\n",
            "        [ 73.,  66.,  44.],\n",
            "        [ 92.,  87.,  64.],\n",
            "        [ 87., 135.,  57.],\n",
            "        [103.,  43.,  36.],\n",
            "        [ 68.,  97.,  70.]])\n"
          ]
        }
      ]
    },
    {
      "cell_type": "code",
      "metadata": {
        "colab": {
          "base_uri": "https://localhost:8080/"
        },
        "id": "K8eMXjAhXYif",
        "outputId": "61bdbe53-6028-49be-ae13-be5905307548"
      },
      "source": [
        "print(targets)"
      ],
      "execution_count": null,
      "outputs": [
        {
          "output_type": "stream",
          "name": "stdout",
          "text": [
            "tensor([[ 56.,  70.],\n",
            "        [ 81., 101.],\n",
            "        [119., 133.],\n",
            "        [ 22.,  37.],\n",
            "        [103., 119.],\n",
            "        [ 57.,  69.],\n",
            "        [ 80., 102.],\n",
            "        [118., 132.],\n",
            "        [ 21.,  38.],\n",
            "        [104., 118.],\n",
            "        [ 57.,  69.],\n",
            "        [ 82., 100.],\n",
            "        [118., 134.],\n",
            "        [ 20.,  38.],\n",
            "        [102., 120.]])\n"
          ]
        }
      ]
    },
    {
      "cell_type": "markdown",
      "metadata": {
        "id": "m80Yf02zXdVc"
      },
      "source": [
        "## Dataset"
      ]
    },
    {
      "cell_type": "code",
      "metadata": {
        "id": "1vQKBZRgXeIt"
      },
      "source": [
        "from torch.utils.data import TensorDataset\n",
        "\n",
        "dataset = TensorDataset(inputs, targets)"
      ],
      "execution_count": null,
      "outputs": []
    },
    {
      "cell_type": "code",
      "metadata": {
        "colab": {
          "base_uri": "https://localhost:8080/"
        },
        "id": "jjY28mVLXgMh",
        "outputId": "526f52b9-e784-48fa-a301-5cd55b10f737"
      },
      "source": [
        "dataset[:3]"
      ],
      "execution_count": null,
      "outputs": [
        {
          "output_type": "execute_result",
          "data": {
            "text/plain": [
              "(tensor([[ 73.,  67.,  43.],\n",
              "         [ 91.,  88.,  64.],\n",
              "         [ 87., 134.,  58.]]),\n",
              " tensor([[ 56.,  70.],\n",
              "         [ 81., 101.],\n",
              "         [119., 133.]]))"
            ]
          },
          "metadata": {},
          "execution_count": 9
        }
      ]
    },
    {
      "cell_type": "markdown",
      "metadata": {
        "id": "7Q2OQsChXkx-"
      },
      "source": [
        "## DataLoader"
      ]
    },
    {
      "cell_type": "code",
      "metadata": {
        "id": "WQe0YuyYXhib"
      },
      "source": [
        "from torch.utils.data import DataLoader\n",
        "\n",
        "batch_size = 3\n",
        "train_loader = DataLoader(dataset, batch_size=batch_size, shuffle=True)"
      ],
      "execution_count": null,
      "outputs": []
    },
    {
      "cell_type": "code",
      "metadata": {
        "colab": {
          "base_uri": "https://localhost:8080/"
        },
        "id": "LkIz1yA7XmSg",
        "outputId": "fa4ada25-d454-4339-9226-d11143c1f681"
      },
      "source": [
        "# A Batch Sample\n",
        "for inp,target in train_loader:\n",
        "    print(inp)\n",
        "    print(target)\n",
        "    break"
      ],
      "execution_count": null,
      "outputs": [
        {
          "output_type": "stream",
          "name": "stdout",
          "text": [
            "tensor([[ 68.,  96.,  71.],\n",
            "        [103.,  43.,  36.],\n",
            "        [ 73.,  67.,  43.]])\n",
            "tensor([[104., 118.],\n",
            "        [ 20.,  38.],\n",
            "        [ 56.,  70.]])\n"
          ]
        }
      ]
    },
    {
      "cell_type": "markdown",
      "metadata": {
        "id": "u3LOkTVNXuMA"
      },
      "source": [
        "## Linear Regression"
      ]
    },
    {
      "cell_type": "code",
      "metadata": {
        "colab": {
          "base_uri": "https://localhost:8080/"
        },
        "id": "NXl5yvccXvcS",
        "outputId": "cd5f593c-49c9-43ea-811c-455c77bc1fd5"
      },
      "source": [
        "w = torch.randn(2, 3, requires_grad=True) #Weights\n",
        "b = torch.randn(2, requires_grad=True) # Bias\n",
        "print(w)\n",
        "print(b)"
      ],
      "execution_count": null,
      "outputs": [
        {
          "output_type": "stream",
          "name": "stdout",
          "text": [
            "tensor([[-0.2510,  0.4051, -0.7637],\n",
            "        [-0.5891, -0.8131,  1.0250]], requires_grad=True)\n",
            "tensor([-1.7385,  0.1349], requires_grad=True)\n"
          ]
        }
      ]
    },
    {
      "cell_type": "code",
      "metadata": {
        "id": "XjBvWQIgXvuL"
      },
      "source": [
        "# Text classidication, lm etc\n",
        "def model(X):\n",
        "    return X @ w.t() + b"
      ],
      "execution_count": null,
      "outputs": []
    },
    {
      "cell_type": "code",
      "metadata": {
        "colab": {
          "base_uri": "https://localhost:8080/"
        },
        "id": "OA3ZN9njXx_x",
        "outputId": "7f9a574e-cc28-4a42-95aa-e14d3982ca5d"
      },
      "source": [
        "for x,y in train_loader:\n",
        "    preds = model(x)\n",
        "    print(\"Prediction is :\\n\",preds)\n",
        "    print(\"\\nActual targets is :\\n\",y)\n",
        "    break"
      ],
      "execution_count": null,
      "outputs": [
        {
          "output_type": "stream",
          "name": "stdout",
          "text": [
            "Prediction is :\n",
            " tensor([[ -38.9811,  -57.5879],\n",
            "        [ -13.5930, -100.6212],\n",
            "        [ -33.6310,  -46.8192]], grad_fn=<AddBackward0>)\n",
            "\n",
            "Actual targets is :\n",
            " tensor([[ 80., 102.],\n",
            "        [119., 133.],\n",
            "        [103., 119.]])\n"
          ]
        }
      ]
    },
    {
      "cell_type": "markdown",
      "metadata": {
        "id": "ZKln4cKhX2nP"
      },
      "source": [
        "### Loss"
      ]
    },
    {
      "cell_type": "code",
      "metadata": {
        "id": "MP5BloM9X3Tc"
      },
      "source": [
        "def mse_loss(predictions, targets):\n",
        "    difference = predictions - targets\n",
        "    return torch.sum(difference * difference) / difference.numel()\n",
        "\n",
        "# Mean: sum/count"
      ],
      "execution_count": null,
      "outputs": []
    },
    {
      "cell_type": "code",
      "metadata": {
        "colab": {
          "base_uri": "https://localhost:8080/"
        },
        "id": "qvQwDBBjX3hu",
        "outputId": "ce7b1f6f-9740-40ec-f1b9-c85a5cfb27e4"
      },
      "source": [
        "for x,y in train_loader:\n",
        "    preds = model(x)\n",
        "    print(\"Prediction is :\\n\",preds)\n",
        "    print(\"\\nActual targets is :\\n\",y)\n",
        "    print(\"\\nLoss is: \",mse_loss(preds, y))\n",
        "    break"
      ],
      "execution_count": null,
      "outputs": [
        {
          "output_type": "stream",
          "name": "stdout",
          "text": [
            "Prediction is :\n",
            " tensor([[-26.4190, -53.0486],\n",
            "        [-37.5266, -57.2181],\n",
            "        [-37.8124, -59.4260]], grad_fn=<AddBackward0>)\n",
            "\n",
            "Actual targets is :\n",
            " tensor([[ 57.,  69.],\n",
            "        [ 21.,  38.],\n",
            "        [ 81., 101.]])\n",
            "\n",
            "Loss is:  tensor(12366.5557, grad_fn=<DivBackward0>)\n"
          ]
        }
      ]
    },
    {
      "cell_type": "code",
      "metadata": {
        "colab": {
          "base_uri": "https://localhost:8080/"
        },
        "id": "G0aviSvOX5BX",
        "outputId": "1ddc3d14-ceb5-4af7-8dd1-2f7970258022"
      },
      "source": [
        "epochs = 50\n",
        "for i in range(epochs):\n",
        "    # Iterate through training dataloader\n",
        "    for x,y in train_loader:\n",
        "        # Generate Prediction\n",
        "        preds = model(x)\n",
        "        # Get the loss and perform backpropagation\n",
        "        loss = mse_loss(preds, y)\n",
        "        loss.backward()\n",
        "        # print(loss)\n",
        "        # Let's update the weights\n",
        "        with torch.no_grad():\n",
        "            w -= w.grad * 1e-5 # w = w - w.grad * 0.00001\n",
        "            b -= b.grad * 1e-5\n",
        "            # Set the gradients to zero\n",
        "            w.grad.zero_()\n",
        "            b.grad.zero_()\n",
        "    print(f\"Epoch {i}/{epochs}: Loss: {loss}\")"
      ],
      "execution_count": null,
      "outputs": [
        {
          "output_type": "stream",
          "name": "stdout",
          "text": [
            "Epoch 0/50: Loss: 3818.1455078125\n",
            "Epoch 1/50: Loss: 648.2687377929688\n",
            "Epoch 2/50: Loss: 395.8610534667969\n",
            "Epoch 3/50: Loss: 537.2958374023438\n",
            "Epoch 4/50: Loss: 195.60899353027344\n",
            "Epoch 5/50: Loss: 338.1976318359375\n",
            "Epoch 6/50: Loss: 361.8482666015625\n",
            "Epoch 7/50: Loss: 294.2668762207031\n",
            "Epoch 8/50: Loss: 315.0870666503906\n",
            "Epoch 9/50: Loss: 362.9952697753906\n",
            "Epoch 10/50: Loss: 137.4292755126953\n",
            "Epoch 11/50: Loss: 426.2330017089844\n",
            "Epoch 12/50: Loss: 130.20574951171875\n",
            "Epoch 13/50: Loss: 171.3480987548828\n",
            "Epoch 14/50: Loss: 329.6540222167969\n",
            "Epoch 15/50: Loss: 226.9811248779297\n",
            "Epoch 16/50: Loss: 239.72654724121094\n",
            "Epoch 17/50: Loss: 216.0075225830078\n",
            "Epoch 18/50: Loss: 102.84173583984375\n",
            "Epoch 19/50: Loss: 177.7810516357422\n",
            "Epoch 20/50: Loss: 128.1374053955078\n",
            "Epoch 21/50: Loss: 208.1404571533203\n",
            "Epoch 22/50: Loss: 233.2897491455078\n",
            "Epoch 23/50: Loss: 87.17069244384766\n",
            "Epoch 24/50: Loss: 157.66944885253906\n",
            "Epoch 25/50: Loss: 105.62777709960938\n",
            "Epoch 26/50: Loss: 243.7537384033203\n",
            "Epoch 27/50: Loss: 80.51949310302734\n",
            "Epoch 28/50: Loss: 81.46707916259766\n",
            "Epoch 29/50: Loss: 147.95933532714844\n",
            "Epoch 30/50: Loss: 154.5572052001953\n",
            "Epoch 31/50: Loss: 196.65516662597656\n",
            "Epoch 32/50: Loss: 93.1792221069336\n",
            "Epoch 33/50: Loss: 202.7373809814453\n",
            "Epoch 34/50: Loss: 113.81463623046875\n",
            "Epoch 35/50: Loss: 99.87673950195312\n",
            "Epoch 36/50: Loss: 95.17831420898438\n",
            "Epoch 37/50: Loss: 173.2919921875\n",
            "Epoch 38/50: Loss: 46.79661178588867\n",
            "Epoch 39/50: Loss: 122.27896118164062\n",
            "Epoch 40/50: Loss: 108.14249420166016\n",
            "Epoch 41/50: Loss: 78.51261138916016\n",
            "Epoch 42/50: Loss: 89.26459503173828\n",
            "Epoch 43/50: Loss: 173.552978515625\n",
            "Epoch 44/50: Loss: 32.67917251586914\n",
            "Epoch 45/50: Loss: 104.362548828125\n",
            "Epoch 46/50: Loss: 80.45757293701172\n",
            "Epoch 47/50: Loss: 154.37234497070312\n",
            "Epoch 48/50: Loss: 74.83744049072266\n",
            "Epoch 49/50: Loss: 91.25973510742188\n"
          ]
        }
      ]
    },
    {
      "cell_type": "markdown",
      "metadata": {
        "id": "mOEq3zILaONg"
      },
      "source": [
        "## Results"
      ]
    },
    {
      "cell_type": "code",
      "metadata": {
        "colab": {
          "base_uri": "https://localhost:8080/"
        },
        "id": "gTQZbjRwXr94",
        "outputId": "50f730e6-3709-4a13-af23-3d2547b36035"
      },
      "source": [
        "for x,y in train_loader:\n",
        "    preds = model(x)\n",
        "    print(\"Prediction is :\\n\",preds)\n",
        "    print(\"\\nActual targets is :\\n\",y)\n",
        "    break"
      ],
      "execution_count": null,
      "outputs": [
        {
          "output_type": "stream",
          "name": "stdout",
          "text": [
            "Prediction is :\n",
            " tensor([[ 74.2564, 105.0351],\n",
            "        [128.2444, 120.6179],\n",
            "        [ 86.1022, 126.3696]], grad_fn=<AddBackward0>)\n",
            "\n",
            "Actual targets is :\n",
            " tensor([[ 82., 100.],\n",
            "        [119., 133.],\n",
            "        [104., 118.]])\n"
          ]
        }
      ]
    },
    {
      "cell_type": "code",
      "metadata": {
        "id": "veMY0yeNr3KQ"
      },
      "source": [],
      "execution_count": null,
      "outputs": []
    },
    {
      "cell_type": "markdown",
      "source": [],
      "metadata": {
        "id": "05nMwspZGPC2"
      }
    },
    {
      "cell_type": "code",
      "source": [],
      "metadata": {
        "id": "etxC6XiwGQRe"
      },
      "execution_count": null,
      "outputs": []
    },
    {
      "cell_type": "code",
      "metadata": {
        "id": "jlRey5z-rrw6"
      },
      "source": [],
      "execution_count": null,
      "outputs": []
    }
  ]
}